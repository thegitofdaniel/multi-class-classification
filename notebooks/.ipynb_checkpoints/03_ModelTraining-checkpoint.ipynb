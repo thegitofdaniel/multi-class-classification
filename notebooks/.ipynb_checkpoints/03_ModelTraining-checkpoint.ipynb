{
 "cells": [
  {
   "cell_type": "markdown",
   "metadata": {},
   "source": [
    "Daniel Rocha Ruiz, MSc in Data Science and Business Analytics\n",
    "\n",
    "# Multi-Label Classification in Python\n",
    "\n",
    "Tutorials:\n",
    "- https://www.depends-on-the-definition.com/guide-to-multi-label-classification-with-neural-networks/\n",
    "- https://towardsdatascience.com/multi-label-image-classification-with-neural-network-keras-ddc1ab1afede\n",
    "- https://www.analyticsvidhya.com/blog/2019/04/predicting-movie-genres-nlp-multi-label-classification/\n",
    "- https://stackoverflow.com/questions/38246559/how-to-create-a-heat-map-in-python-that-ranges-from-green-to-red\n",
    "\n",
    "Dataset:\n",
    "- www.cs.cmu.edu/~ark/personas/data/MovieSummaries.tar.gz\n",
    "\n",
    "Summary:\n",
    "- In this exercise, we use Tensorflow to model neural networks and perform multi-label classification.\n",
    "- The dataset contains text data on many different movies. Our task is to create a model that correctly predicts the genre of each movie based on its summary. As each movie may have one genre ore more, this is multi-label classification (i.e. each genre is a label, and a movie may have more than one genre).\n",
    "\n",
    "- One technicality:\n",
    "    - Multi-class is choosing one exclusive category out of many;\n",
    "    - Multi-label is choosing at least one category out of many.\n",
    "    \n",
    "Notebooks:\n",
    "- In *notebook 01* we will have a look at the *metadata* to understand a bit more about the labels.\n",
    "- In *notebook 02* we will clean the text data of movie plots, and create a dataset that we can use in model training.\n",
    "- In *notebook 03* we will train a baseline model using a logistic regression.\n",
    "- In *notebook 04* we will finally train the neural network.\n",
    "\n",
    "# Set-up\n",
    "## Environment\n",
    "- First, create the *tf_env* environment following the instructions in the README.\n",
    "- Alternatively, you can use an environment of your own that has tensorflow installed.\n",
    "\n",
    "## Packages"
   ]
  },
  {
   "cell_type": "code",
   "execution_count": 198,
   "metadata": {},
   "outputs": [],
   "source": [
    "# a few tweaks\n",
    "import sys\n",
    "sys.path.append(\"../\")\n",
    "\n",
    "%matplotlib inline\n",
    "\n",
    "%load_ext autoreload\n",
    "%autoreload 2\n",
    "\n",
    "# import packages\n",
    "import warnings\n",
    "from tqdm import tqdm\n",
    "import joblib\n",
    "import shutil\n",
    "\n",
    "# neural networks\n",
    "from tensorflow import keras\n",
    "from sklearn.linear_model import LogisticRegression\n",
    "from sklearn.metrics import f1_score\n",
    "from sklearn.multiclass import OneVsRestClassifier\n",
    "from sklearn.preprocessing import MultiLabelBinarizer\n",
    "\n",
    "# text processing\n",
    "import csv\n",
    "import json\n",
    "import nltk\n",
    "import re\n",
    "from sklearn.feature_extraction.text import TfidfVectorizer\n",
    "from sklearn.model_selection import train_test_split\n",
    "from utils.functions import *\n",
    "\n",
    "# graphs\n",
    "import matplotlib.pyplot as plt \n",
    "import seaborn as sns\n",
    "from matplotlib.colors import LinearSegmentedColormap\n",
    "\n",
    "# maths\n",
    "import pandas as pd\n",
    "import numpy as np"
   ]
  },
  {
   "cell_type": "markdown",
   "metadata": {},
   "source": [
    "## Load the dataset\n",
    "\n",
    "Let's load the dataset prepared in the previous notebook."
   ]
  },
  {
   "cell_type": "code",
   "execution_count": 96,
   "metadata": {},
   "outputs": [
    {
     "name": "stdout",
     "output_type": "stream",
     "text": [
      "(41793, 2)\n"
     ]
    },
    {
     "data": {
      "text/html": [
       "<div>\n",
       "<style scoped>\n",
       "    .dataframe tbody tr th:only-of-type {\n",
       "        vertical-align: middle;\n",
       "    }\n",
       "\n",
       "    .dataframe tbody tr th {\n",
       "        vertical-align: top;\n",
       "    }\n",
       "\n",
       "    .dataframe thead th {\n",
       "        text-align: right;\n",
       "    }\n",
       "</style>\n",
       "<table border=\"1\" class=\"dataframe\">\n",
       "  <thead>\n",
       "    <tr style=\"text-align: right;\">\n",
       "      <th></th>\n",
       "      <th>x</th>\n",
       "      <th>y</th>\n",
       "    </tr>\n",
       "    <tr>\n",
       "      <th>movie_id</th>\n",
       "      <th></th>\n",
       "      <th></th>\n",
       "    </tr>\n",
       "  </thead>\n",
       "  <tbody>\n",
       "    <tr>\n",
       "      <th>23890098</th>\n",
       "      <td>shlykov hard working taxi driver lyosha saxoph...</td>\n",
       "      <td>[114, 359]</td>\n",
       "    </tr>\n",
       "    <tr>\n",
       "      <th>31186339</th>\n",
       "      <td>nation panem consists wealthy capitol twelve p...</td>\n",
       "      <td>[2, 300, 5, 114]</td>\n",
       "    </tr>\n",
       "    <tr>\n",
       "      <th>20663735</th>\n",
       "      <td>poovalli induchoodan sentenced six years priso...</td>\n",
       "      <td>[232, 46, 2, 114]</td>\n",
       "    </tr>\n",
       "    <tr>\n",
       "      <th>2231378</th>\n",
       "      <td>lemon drop kid new york city swindler illegall...</td>\n",
       "      <td>[75, 302]</td>\n",
       "    </tr>\n",
       "    <tr>\n",
       "      <th>595909</th>\n",
       "      <td>seventh day adventist church pastor michael ch...</td>\n",
       "      <td>[98, 359, 109, 114, 93]</td>\n",
       "    </tr>\n",
       "  </tbody>\n",
       "</table>\n",
       "</div>"
      ],
      "text/plain": [
       "                                                          x  \\\n",
       "movie_id                                                      \n",
       "23890098  shlykov hard working taxi driver lyosha saxoph...   \n",
       "31186339  nation panem consists wealthy capitol twelve p...   \n",
       "20663735  poovalli induchoodan sentenced six years priso...   \n",
       "2231378   lemon drop kid new york city swindler illegall...   \n",
       "595909    seventh day adventist church pastor michael ch...   \n",
       "\n",
       "                                y  \n",
       "movie_id                           \n",
       "23890098               [114, 359]  \n",
       "31186339         [2, 300, 5, 114]  \n",
       "20663735        [232, 46, 2, 114]  \n",
       "2231378                 [75, 302]  \n",
       "595909    [98, 359, 109, 114, 93]  "
      ]
     },
     "execution_count": 96,
     "metadata": {},
     "output_type": "execute_result"
    }
   ],
   "source": [
    "# replace path if different\n",
    "df = pd.read_parquet(\"../data/cleaned_dataset.parquet\")\n",
    "\n",
    "# for ease\n",
    "df.columns = [\"x\",\"y\"]\n",
    "\n",
    "print(df.shape)\n",
    "df.head()"
   ]
  },
  {
   "cell_type": "markdown",
   "metadata": {},
   "source": [
    "# Baseline Prediction\n",
    "First, we train a logistic regression, that we will use as baseline.\n",
    "\n",
    "## Data Formatting\n",
    "A few last-mile adjustements are needed:\n",
    "- The Y data needs to be converted into a sparse matrix. This conversion doesn't spill information, so it's performed on the whole Y data at once.\n",
    "- The X data featurized with TF-IDF. This conversion could potentially spill information. So, it's calibrated on the training data, and only then applied to the validation data, to avoid an spillover (i.e. bias)."
   ]
  },
  {
   "cell_type": "code",
   "execution_count": 97,
   "metadata": {},
   "outputs": [],
   "source": [
    "# Y data\n",
    "multilabel_binarizer = MultiLabelBinarizer()\n",
    "multilabel_binarizer.fit(df['y'])\n",
    "y = multilabel_binarizer.transform(df['y'])\n",
    "\n",
    "# train-val split\n",
    "xtrain, xval, ytrain, yval = train_test_split(df['x'], y, test_size=0.2, random_state=42)\n",
    "print(\"X Training data:\", xtrain.shape)\n",
    "print(\"X Validation data:\", xval.shape)\n",
    "print(\"Y Training data:\", ytrain.shape)\n",
    "print(\"Y Validation data:\", yval.shape)\n",
    "\n",
    "# X data\n",
    "# create TF-IDF features\n",
    "tfidf_vectorizer = TfidfVectorizer(max_df=0.8, max_features=10000)\n",
    "xtrain_tfidf = tfidf_vectorizer.fit_transform(xtrain)\n",
    "xval_tfidf = tfidf_vectorizer.transform(xval)"
   ]
  },
  {
   "cell_type": "markdown",
   "metadata": {},
   "source": [
    "## Training the Classifier\n",
    "\n",
    "Steps:\n",
    "- For each label, we train a logistic regression. So, we will train 363 different logistic regressions.\n",
    "- The output of each logistic regression is evaluated agains a threshold, an the result has a boolean interpretation (e.g. Is this the summary of an Action movie?).\n",
    "- These will be combined with the *OneVsRestClassifier* object.\n",
    "\n",
    "Notes:\n",
    "- As the dataset is very sparse, we will see a few warnings from categories that weren't in both training and validation sets."
   ]
  },
  {
   "cell_type": "code",
   "execution_count": 102,
   "metadata": {},
   "outputs": [
    {
     "name": "stderr",
     "output_type": "stream",
     "text": [
      "C:\\ProgramData\\Miniconda3\\lib\\site-packages\\sklearn\\multiclass.py:79: UserWarning: Label not 61 is present in all training examples.\n",
      "  warnings.warn(\n",
      "C:\\ProgramData\\Miniconda3\\lib\\site-packages\\sklearn\\multiclass.py:79: UserWarning: Label not 74 is present in all training examples.\n",
      "  warnings.warn(\n",
      "C:\\ProgramData\\Miniconda3\\lib\\site-packages\\sklearn\\linear_model\\_logistic.py:814: ConvergenceWarning: lbfgs failed to converge (status=1):\n",
      "STOP: TOTAL NO. of ITERATIONS REACHED LIMIT.\n",
      "\n",
      "Increase the number of iterations (max_iter) or scale the data as shown in:\n",
      "    https://scikit-learn.org/stable/modules/preprocessing.html\n",
      "Please also refer to the documentation for alternative solver options:\n",
      "    https://scikit-learn.org/stable/modules/linear_model.html#logistic-regression\n",
      "  n_iter_i = _check_optimize_result(\n",
      "C:\\ProgramData\\Miniconda3\\lib\\site-packages\\sklearn\\multiclass.py:79: UserWarning: Label not 243 is present in all training examples.\n",
      "  warnings.warn(\n",
      "C:\\ProgramData\\Miniconda3\\lib\\site-packages\\sklearn\\multiclass.py:79: UserWarning: Label not 245 is present in all training examples.\n",
      "  warnings.warn(\n",
      "C:\\ProgramData\\Miniconda3\\lib\\site-packages\\sklearn\\multiclass.py:79: UserWarning: Label not 259 is present in all training examples.\n",
      "  warnings.warn(\n",
      "C:\\ProgramData\\Miniconda3\\lib\\site-packages\\sklearn\\multiclass.py:79: UserWarning: Label not 292 is present in all training examples.\n",
      "  warnings.warn(\n"
     ]
    },
    {
     "name": "stdout",
     "output_type": "stream",
     "text": [
      "N-Classes 363\n",
      "CPU times: total: 2min 35s\n",
      "Wall time: 2min 37s\n"
     ]
    }
   ],
   "source": [
    "%%time\n",
    "# usually takes 2min42sec\n",
    "\n",
    "# create classifier objects\n",
    "lr = LogisticRegression()\n",
    "clf = OneVsRestClassifier(lr)\n",
    "\n",
    "# fit model on train data\n",
    "clf.fit(xtrain_tfidf, ytrain)\n",
    "print(\"N-Classes\", clf.n_classes_)"
   ]
  },
  {
   "cell_type": "markdown",
   "metadata": {},
   "source": [
    "## Performance evaluation"
   ]
  },
  {
   "cell_type": "code",
   "execution_count": 103,
   "metadata": {},
   "outputs": [
    {
     "name": "stdout",
     "output_type": "stream",
     "text": [
      "Validation Set, Default Threshold\n",
      "F1-Score: 0.3173826632013454\n",
      "Validation Set, Custom Threshold\n",
      "F1-Score: 0.44040165867143677\n"
     ]
    }
   ],
   "source": [
    "#####################################\n",
    "# predictions for validation set\n",
    "print(\"Validation Set, Default Threshold\")\n",
    "y_pred = clf.predict(xval_tfidf)\n",
    "print(\"F1-Score:\", f1_score(yval, y_pred, average=\"micro\"))\n",
    "\n",
    "# predictions for validation set with custom threshold t\n",
    "print(\"Validation Set, Custom Threshold\")\n",
    "y_pred_prob = clf.predict_proba(xval_tfidf)\n",
    "t = 0.3\n",
    "y_pred_new = (y_pred_prob >= t).astype(int)\n",
    "print(\"F1-Score:\", f1_score(yval, y_pred_new, average=\"micro\"))"
   ]
  },
  {
   "cell_type": "markdown",
   "metadata": {},
   "source": [
    "## A few examples\n",
    "By looking at a few predictions, we can feel that the classifier is quite accurate. It is not saying *nonsense*. However, there are too many labels, which often don't constitute *really* consitute genre.\n",
    "\n",
    "### Examples in the Validation Set"
   ]
  },
  {
   "cell_type": "code",
   "execution_count": 111,
   "metadata": {},
   "outputs": [
    {
     "name": "stdout",
     "output_type": "stream",
     "text": [
      "(41793, 2)\n"
     ]
    },
    {
     "data": {
      "text/html": [
       "<div>\n",
       "<style scoped>\n",
       "    .dataframe tbody tr th:only-of-type {\n",
       "        vertical-align: middle;\n",
       "    }\n",
       "\n",
       "    .dataframe tbody tr th {\n",
       "        vertical-align: top;\n",
       "    }\n",
       "\n",
       "    .dataframe thead th {\n",
       "        text-align: right;\n",
       "    }\n",
       "</style>\n",
       "<table border=\"1\" class=\"dataframe\">\n",
       "  <thead>\n",
       "    <tr style=\"text-align: right;\">\n",
       "      <th></th>\n",
       "      <th>movie_title</th>\n",
       "      <th>movie_plot</th>\n",
       "      <th>movie_genre</th>\n",
       "      <th>y_pred_decoded</th>\n",
       "    </tr>\n",
       "    <tr>\n",
       "      <th>movie_id</th>\n",
       "      <th></th>\n",
       "      <th></th>\n",
       "      <th></th>\n",
       "      <th></th>\n",
       "    </tr>\n",
       "  </thead>\n",
       "  <tbody>\n",
       "    <tr>\n",
       "      <th>18578504</th>\n",
       "      <td>Table for Five</td>\n",
       "      <td>J.P. Tannen  is a former professional golfer r...</td>\n",
       "      <td>[Family Drama, Drama, Indie]</td>\n",
       "      <td>[Comedy, Drama]</td>\n",
       "    </tr>\n",
       "    <tr>\n",
       "      <th>98508</th>\n",
       "      <td>The Sand Pebbles</td>\n",
       "      <td>In 1926, Machinist's Mate 1st Class Jake Holma...</td>\n",
       "      <td>[Historical fiction, Adventure, War film, Epic...</td>\n",
       "      <td>[Action, Action/Adventure, Adventure, Drama, W...</td>\n",
       "    </tr>\n",
       "    <tr>\n",
       "      <th>7018587</th>\n",
       "      <td>Minor Mishaps</td>\n",
       "      <td>Minor Mishaps is the story of a family's react...</td>\n",
       "      <td>[Drama, Comedy]</td>\n",
       "      <td>[Drama]</td>\n",
       "    </tr>\n",
       "    <tr>\n",
       "      <th>35495058</th>\n",
       "      <td>Worth the Risk?</td>\n",
       "      <td>The film opens at an emergency telephone excha...</td>\n",
       "      <td>[Short Film, Documentary]</td>\n",
       "      <td>[Drama, Short Film]</td>\n",
       "    </tr>\n",
       "    <tr>\n",
       "      <th>2806249</th>\n",
       "      <td>Homo Erectus</td>\n",
       "      <td>Ishbo  is the younger son of Mookoo , the lead...</td>\n",
       "      <td>[Comedy]</td>\n",
       "      <td>[Adventure, Comedy, Drama, Fantasy]</td>\n",
       "    </tr>\n",
       "  </tbody>\n",
       "</table>\n",
       "</div>"
      ],
      "text/plain": [
       "               movie_title                                         movie_plot  \\\n",
       "movie_id                                                                        \n",
       "18578504    Table for Five  J.P. Tannen  is a former professional golfer r...   \n",
       "98508     The Sand Pebbles  In 1926, Machinist's Mate 1st Class Jake Holma...   \n",
       "7018587      Minor Mishaps  Minor Mishaps is the story of a family's react...   \n",
       "35495058   Worth the Risk?  The film opens at an emergency telephone excha...   \n",
       "2806249       Homo Erectus  Ishbo  is the younger son of Mookoo , the lead...   \n",
       "\n",
       "                                                movie_genre  \\\n",
       "movie_id                                                      \n",
       "18578504                       [Family Drama, Drama, Indie]   \n",
       "98508     [Historical fiction, Adventure, War film, Epic...   \n",
       "7018587                                     [Drama, Comedy]   \n",
       "35495058                          [Short Film, Documentary]   \n",
       "2806249                                            [Comedy]   \n",
       "\n",
       "                                             y_pred_decoded  \n",
       "movie_id                                                     \n",
       "18578504                                    [Comedy, Drama]  \n",
       "98508     [Action, Action/Adventure, Adventure, Drama, W...  \n",
       "7018587                                             [Drama]  \n",
       "35495058                                [Drama, Short Film]  \n",
       "2806249                 [Adventure, Comedy, Drama, Fantasy]  "
      ]
     },
     "execution_count": 111,
     "metadata": {},
     "output_type": "execute_result"
    }
   ],
   "source": [
    "# decode genres\n",
    "with open('../utils/decode_genres.json', 'r') as f:\n",
    "    decode_genres = json.load(f)\n",
    "    decode_genres = {int(k):v for k,v in decode_genres.items()}\n",
    "\n",
    "# create a dataframe with the predictions on validation set\n",
    "df_viz = pd.DataFrame()\n",
    "df_viz.index = xval.index\n",
    "df_viz = df_viz.rename_axis('movie_id')\n",
    "\n",
    "#df_viz[\"y_val_encoded\"]=multilabel_binarizer.inverse_transform(yval)\n",
    "#df_viz[\"y_val_decoded\"]=df_viz[\"y_val_encoded\"].apply(lambda x: [decode_genres[i] for i in x])\n",
    "\n",
    "df_viz[\"y_pred_encoded\"]=multilabel_binarizer.inverse_transform(y_pred_new)\n",
    "df_viz[\"y_pred_decoded\"]=df_viz[\"y_pred_encoded\"].apply(lambda x: [decode_genres[i] for i in x])\n",
    "\n",
    "df_viz = df_viz[[\"y_pred_decoded\"]]\n",
    "\n",
    "# get the summary\n",
    "df_sup = pd.read_parquet(\"../data/viz_dataset.parquet\")\n",
    "\n",
    "# merge dataframes on movie_id\n",
    "df_viz = pd.merge(df_viz, df_sup, on=\"movie_id\", how=\"left\")\n",
    "print(df.shape)\n",
    "\n",
    "# reorder columns\n",
    "df_viz = df_viz[['movie_title', 'movie_plot', 'movie_genre', 'y_pred_decoded']]\n",
    "\n",
    "df_viz.head()"
   ]
  },
  {
   "cell_type": "code",
   "execution_count": 123,
   "metadata": {
    "tags": []
   },
   "outputs": [
    {
     "name": "stdout",
     "output_type": "stream",
     "text": [
      "Movie:  Outrage! \n",
      "Plot:  Marcos, a young reporter, goes to a circus to write a Sunday supplement piece. As he is leaving, the next act is about to start. It involves a woman riding a horse and performing tricks; the presentation ends in shooting balloons from a horse while it is moving. Marcos is taken by the beauty of Ana, the equestrian sharpshooter, and returns to interview her. She invites him to dinner with the troupe. They dance, and then spend the night together. He falls in love with the beautiful horse-riding circus girl. An affair between them ensues; he considers following her around Europe and promises he would follow her to hell. Soon, Marco has to leave to cover a concert in Barcelona. Fate intervenes when three young mechanics come to repair circus equipment and the owner gives them complimentary tickets for the show. The trio makes a racket as they watch Ana perform. After the show, they follow Ana to her trailer and brutally rape her. Although she is badly hurt, she decides to take matters into her own hands. Bruised, humiliated, and bleeding, she picks up her rifle and goes to hunt them down. She finds them easily at the mechanic shop where they work. She kills them all and leaves without being clearly identified. Ana, who is bleeding badly, has to visit a doctor who reveals to the authorities that she has been raped. The police initially have no clues about the culprit of the triple homicide, but after interviewing the doctor, they begin to suspect Ana. Ana is stopped in a highway by two officers; she panics and kills them too, a decision that she regrets immediately. Marco who goes to Ana’s trailer, finds traces of blood all over the place and he and the authorities go in search of Ana. She finds refuge in a country home where a couple and two small children live. Marcos is responsible for breaking the impasse between Ana and the police, but he arrives too late to help her; the police open fire on her, and she dies in his arms. \n",
      "Actual genre:  ['Drama' 'World cinema'] \n",
      "Predicted genre:  ['Drama', 'World cinema'] \n",
      "\n",
      "Movie:  The Sasquatch Gang \n",
      "Plot:  Young sci-fi/fantasy enthusiast Gavin Gore  and his ragtag group of nerd friends, girlfriend Sophie Suchowski , swordsman Hobie Plumber , and young Maynard Keyes  stumble upon some \"large tracks\" and a \"big ole sasquatch dumplin'\" whilst walking some trails in the nearby woods. Unbeknownst to the friends, two of Gavin's redneck neighbors, Zerk Wilder  and Shirts Joachim  planted some fake evidence as a plan to gain profits and pay off Zerk's credit card bill. Soon the publicity stunt gains the attention of a local Sasquatch \"expert\" . \n",
      "Actual genre:  ['Fantasy' 'Comedy' 'Teen' 'Indie'] \n",
      "Predicted genre:  ['Comedy', 'Drama'] \n",
      "\n",
      "Movie:  Meet Me in Miami \n",
      "Plot:  Luis was 12 when he met Julia. She was staying at the Hotel with her family while on holiday, and when the two met, the connection was instant. They spent the summer together, laughing, playing and wishing it would never end. When it was finally time for Julia to return to her native New Zealand, the two made a promise to meet back at the fountain the same time every year. Each year Luis waited, but no Julia. Now 10 years later, Luis finally decides it's time to put destiny to the test. Dragging along his best friend Eduardo, they board a plane to New Zealand determined to find Julia and win her back. Tagline: They were best friends that had it all...until one girl changed everything. \n",
      "Actual genre:  ['Romantic comedy' 'Family Film' 'Comedy'] \n",
      "Predicted genre:  ['Comedy', 'Drama', 'Romance Film'] \n",
      "\n",
      "Movie:  Lillian Gish in a Liberty Loan Appeal \n",
      "Plot:  Lillian wants to buy clothes but her mother suggests it would be more patriotic to invest in Liberty bonds. While asleep Lillian dreams of German war atrocities and awakens determined to buy bonds instead of clothes. \n",
      "Actual genre:  ['Short Film' 'Silent film' 'Indie' 'Black-and-white'] \n",
      "Predicted genre:  ['Drama'] \n",
      "\n",
      "Movie:  Police Story 2 \n",
      "Plot:  Inspector Chan Ka-kui has been demoted to highway patrol as the result of his handling of his previous case, which involved the violent arrest of crime lord Chu Tao and heavy property damage. The new duty pleases his girlfriend, May, who is glad that her boyfriend is no longer taking difficult cases and has more time to see her. However, the happy mood changes when Ka-Kui is greeted by Chu Tao and his bespectacled right-hand man John Ko. It seems Chu Tao is terminally ill with only three months left to live, so he has been released from prison, and while he is still alive he vows to make life difficult for Ka-Kui. John Ko and some henchmen show up at Ka-Kui's apartment and intimidate him, baiting the policeman to attack. Later, May and her mother are beaten by John Ko and his men. Ka-Kui can no longer hold back, and he lashes out against John Ko and his men at a restaurant. Ashamed of his behavior, Ka-Kui resigns from the Royal Hong Kong Police Force. He plans to take a trip to Bali with May, but while he is at a travel agency in a shopping mall, some police officers see him and report that the mall is under a bomb threat. Unable to resist the urge to get involved in police work, Ka-Kui tells the officers to sound the fire alarm and have the mall cleared, and agrees to take responsibility for the decision. A bomb does indeed explode, and the entire mall is leveled by the blast. Ka-Kui is praised for his efforts, and he is reinstated and assigned to solve the case of the bombing. Ka-Kui plants a covert listening device in the mall property company's office to try and learn more about the bombers. This leads to a suspect who is a deaf-mute and is a fierce martial artist and explosives expert. The bombing gang, aware that the police are on to them, plan a simultaneous bombing of the property company and the police headquarters. They double their ransom demand to $20 million and kidnap May, luring Ka-Kui into a trap in which he is strapped with an explosive vest and forced to pick up the extortion money from the property company. However, after picking up the money, Ka-Kui tells the gang that they are being followed and split up. Ka-kui, still holding the ransom, is able to drive his car into a tunnel so that the bomb he is wearing cannot be activated and he strips it off. He then goes to rescue May, who is being held in a warehouse full of fireworks. Ka-Kui again faces the deaf-mute man, who throws small firebombs at him. Ka-Kui then gains the upper hand and brutally retaliates against the mute man, finally throwing him off a third story catwalk onto a pile of plastic drums below. Ka-Kui then rescues May and departs the warehouse, just as it explodes in a huge ball of fire. \n",
      "Actual genre:  ['Crime Fiction' 'World cinema' 'Action/Adventure' 'Martial Arts Film'\n",
      " 'Comedy' 'Action' 'Chinese Movies'] \n",
      "Predicted genre:  ['Action', 'Action/Adventure', 'Chinese Movies', 'Comedy', 'Crime Fiction', 'Drama', 'Thriller', 'World cinema'] \n",
      "\n"
     ]
    }
   ],
   "source": [
    "for i in range(5): \n",
    "    k = df_viz.sample(1).index[0]\n",
    "    print(\"Title: \", df_viz['movie_title'][k]\n",
    "          ,\"\\nPlot: \", df_viz['movie_plot'][k]\n",
    "          ,\"\\nActual genre: \", df_viz['movie_genre'][k]\n",
    "          ,\"\\nPredicted genre: \", df_viz['y_pred_decoded'][k]\n",
    "          , \"\\n\")"
   ]
  },
  {
   "cell_type": "markdown",
   "metadata": {},
   "source": [
    "### New Examples "
   ]
  },
  {
   "cell_type": "code",
   "execution_count": 193,
   "metadata": {},
   "outputs": [
    {
     "data": {
      "text/plain": [
       "['Comedy']"
      ]
     },
     "execution_count": 193,
     "metadata": {},
     "output_type": "execute_result"
    }
   ],
   "source": [
    "def infer_genres(text\n",
    "                 ,model=clf\n",
    "                 ,binarizer=multilabel_binarizer\n",
    "                 ,vectorizer=tfidf_vectorizer\n",
    "                 ,decoder=decode_genres\n",
    "                ):\n",
    "    text = clean_text(text)\n",
    "    text = remove_stopwords(text)\n",
    "    q_vec = vectorizer.transform([text])\n",
    "    q_pred = model.predict(q_vec)\n",
    "    genres = binarizer.inverse_transform(q_pred)\n",
    "    genres = [decoder[item] for t in genres for item in t]\n",
    "    return genres\n",
    "\n",
    "infer_genres(\"this is the plot of a romantic comedy movie\")"
   ]
  },
  {
   "cell_type": "markdown",
   "metadata": {},
   "source": [
    "## Save the model"
   ]
  },
  {
   "cell_type": "code",
   "execution_count": 196,
   "metadata": {},
   "outputs": [
    {
     "ename": "NameError",
     "evalue": "name 'joblib' is not defined",
     "output_type": "error",
     "traceback": [
      "\u001b[1;31m---------------------------------------------------------------------------\u001b[0m",
      "\u001b[1;31mNameError\u001b[0m                                 Traceback (most recent call last)",
      "Input \u001b[1;32mIn [196]\u001b[0m, in \u001b[0;36m<cell line: 5>\u001b[1;34m()\u001b[0m\n\u001b[0;32m      2\u001b[0m \u001b[38;5;28;01mif\u001b[39;00m \u001b[38;5;129;01mnot\u001b[39;00m os\u001b[38;5;241m.\u001b[39mpath\u001b[38;5;241m.\u001b[39mexists(os\u001b[38;5;241m.\u001b[39mpath\u001b[38;5;241m.\u001b[39mjoin(\u001b[38;5;124m\"\u001b[39m\u001b[38;5;124m../outputs\u001b[39m\u001b[38;5;124m\"\u001b[39m,model_name)):\n\u001b[0;32m      3\u001b[0m     os\u001b[38;5;241m.\u001b[39mmkdir(\u001b[38;5;124m\"\u001b[39m\u001b[38;5;124m../outputs/\u001b[39m\u001b[38;5;124m\"\u001b[39m\u001b[38;5;241m+\u001b[39mmodel_name)\n\u001b[1;32m----> 5\u001b[0m \u001b[43mjoblib\u001b[49m\u001b[38;5;241m.\u001b[39mdump(clf, \u001b[38;5;124m\"\u001b[39m\u001b[38;5;124m../outputs/\u001b[39m\u001b[38;5;124m\"\u001b[39m\u001b[38;5;241m+\u001b[39mmodel_name\u001b[38;5;241m+\u001b[39m\u001b[38;5;124m\"\u001b[39m\u001b[38;5;124m/\u001b[39m\u001b[38;5;124m\"\u001b[39m\u001b[38;5;241m+\u001b[39m\u001b[38;5;124m\"\u001b[39m\u001b[38;5;124mmodel.joblib\u001b[39m\u001b[38;5;124m\"\u001b[39m)\n\u001b[0;32m      6\u001b[0m joblib\u001b[38;5;241m.\u001b[39mdump(multilabel_binarizer, \u001b[38;5;124m\"\u001b[39m\u001b[38;5;124m../outputs/\u001b[39m\u001b[38;5;124m\"\u001b[39m\u001b[38;5;241m+\u001b[39mmodel_name\u001b[38;5;241m+\u001b[39m\u001b[38;5;124m\"\u001b[39m\u001b[38;5;124m/\u001b[39m\u001b[38;5;124m\"\u001b[39m\u001b[38;5;241m+\u001b[39m\u001b[38;5;124m\"\u001b[39m\u001b[38;5;124mmultilabel_binarizer.joblib\u001b[39m\u001b[38;5;124m\"\u001b[39m)\n\u001b[0;32m      7\u001b[0m joblib\u001b[38;5;241m.\u001b[39mdump(tfidf_vectorizer, \u001b[38;5;124m\"\u001b[39m\u001b[38;5;124m../outputs/\u001b[39m\u001b[38;5;124m\"\u001b[39m\u001b[38;5;241m+\u001b[39mmodel_name\u001b[38;5;241m+\u001b[39m\u001b[38;5;124m\"\u001b[39m\u001b[38;5;124m/\u001b[39m\u001b[38;5;124m\"\u001b[39m\u001b[38;5;241m+\u001b[39m\u001b[38;5;124m\"\u001b[39m\u001b[38;5;124mtfidf_vectorizer.joblib\u001b[39m\u001b[38;5;124m\"\u001b[39m)\n",
      "\u001b[1;31mNameError\u001b[0m: name 'joblib' is not defined"
     ]
    }
   ],
   "source": [
    "model_name = \"clf_logistic\"\n",
    "if not os.path.exists(os.path.join(\"../outputs\",model_name)):\n",
    "    os.mkdir(\"../outputs/\"+model_name)\n",
    "\n",
    "joblib.dump(clf, \"../outputs/\"+model_name+\"/\"+\"model.joblib\")\n",
    "joblib.dump(multilabel_binarizer, \"../outputs/\"+model_name+\"/\"+\"multilabel_binarizer.joblib\")\n",
    "joblib.dump(tfidf_vectorizer, \"../outputs/\"+model_name+\"/\"+\"tfidf_vectorizer.joblib\")\n",
    "joblib.dump(decode_genres, \"../outputs/\"+model_name+\"/\"+\"decode_genres.joblib\")\n",
    "\n",
    "shutil.copyfile(\"../utils/functions.py\", \"../outputs/\"+model_name+\"/functions.py\")"
   ]
  },
  {
   "cell_type": "code",
   "execution_count": 197,
   "metadata": {},
   "outputs": [
    {
     "ename": "NameError",
     "evalue": "name 'shutil' is not defined",
     "output_type": "error",
     "traceback": [
      "\u001b[1;31m---------------------------------------------------------------------------\u001b[0m",
      "\u001b[1;31mNameError\u001b[0m                                 Traceback (most recent call last)",
      "Input \u001b[1;32mIn [197]\u001b[0m, in \u001b[0;36m<cell line: 1>\u001b[1;34m()\u001b[0m\n\u001b[1;32m----> 1\u001b[0m \u001b[43mshutil\u001b[49m\n",
      "\u001b[1;31mNameError\u001b[0m: name 'shutil' is not defined"
     ]
    }
   ],
   "source": [
    "shutil"
   ]
  },
  {
   "cell_type": "code",
   "execution_count": 201,
   "metadata": {},
   "outputs": [
    {
     "data": {
      "text/plain": [
       "'../outputs/clf_logistic/functions.py'"
      ]
     },
     "execution_count": 201,
     "metadata": {},
     "output_type": "execute_result"
    }
   ],
   "source": []
  },
  {
   "cell_type": "code",
   "execution_count": 202,
   "metadata": {},
   "outputs": [
    {
     "name": "stdout",
     "output_type": "stream",
     "text": [
      "Overwriting ../outputs/clf_logistic/inference_script.py\n"
     ]
    }
   ],
   "source": [
    "%%writefile \"../outputs/clf_logistic/inference_script.py\"\n",
    "\n",
    "# neural networks\n",
    "from tensorflow import keras\n",
    "from sklearn.linear_model import LogisticRegression\n",
    "from sklearn.metrics import f1_score\n",
    "from sklearn.multiclass import OneVsRestClassifier\n",
    "from sklearn.preprocessing import MultiLabelBinarizer\n",
    "\n",
    "# text processing\n",
    "import csv\n",
    "import json\n",
    "import nltk\n",
    "import re\n",
    "from sklearn.feature_extraction.text import TfidfVectorizer\n",
    "from sklearn.model_selection import train_test_split\n",
    "from functions import *\n",
    "\n",
    "# graphs\n",
    "import matplotlib.pyplot as plt \n",
    "import seaborn as sns\n",
    "\n",
    "# maths\n",
    "import pandas as pd\n",
    "import numpy as np\n",
    "\n",
    "# others\n",
    "import os\n",
    "import joblib\n",
    "from tqdm import tqdm\n",
    "\n",
    "model=joblib.load('model.joblib')\n",
    "multilabel_binarizer=joblib.load('multilabel_binarizer.joblib') \n",
    "tfidf_vectorizer=joblib.load('tfidf_vectorizer.joblib') \n",
    "decode_genres=joblib.load('decode_genres.joblib') \n",
    "\n",
    "def infer_genres(text\n",
    "                 ,model=model\n",
    "                 ,binarizer=multilabel_binarizer\n",
    "                 ,vectorizer=tfidf_vectorizer\n",
    "                 ,decoder=decode_genres\n",
    "                ):\n",
    "    text = clean_text(text)\n",
    "    text = remove_stopwords(text)\n",
    "    q_vec = vectorizer.transform([text])\n",
    "    q_pred = model.predict(q_vec)\n",
    "    genres = binarizer.inverse_transform(q_pred)\n",
    "    genres = [decoder[item] for t in genres for item in t]\n",
    "    return genres\n",
    "\n",
    "if __name__ == \"__main__\":\n",
    "    print(infer_genres(\"this is the plot of a romantic comedy movie\"))\n",
    "    print(infer_genres(\"this is the plot of an action movie\"))"
   ]
  }
 ],
 "metadata": {
  "kernelspec": {
   "display_name": "tf_env",
   "language": "python",
   "name": "tf_env"
  },
  "language_info": {
   "codemirror_mode": {
    "name": "ipython",
    "version": 3
   },
   "file_extension": ".py",
   "mimetype": "text/x-python",
   "name": "python",
   "nbconvert_exporter": "python",
   "pygments_lexer": "ipython3",
   "version": "3.9.7"
  }
 },
 "nbformat": 4,
 "nbformat_minor": 4
}
